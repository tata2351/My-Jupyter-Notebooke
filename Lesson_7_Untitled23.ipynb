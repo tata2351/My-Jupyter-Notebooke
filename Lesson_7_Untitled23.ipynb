{
  "nbformat": 4,
  "nbformat_minor": 0,
  "metadata": {
    "colab": {
      "name": "Lesson 7-Untitled23.ipynb",
      "provenance": [],
      "authorship_tag": "ABX9TyN60KyHh8I2shDcMoIO9E1Q",
      "include_colab_link": true
    },
    "kernelspec": {
      "name": "python3",
      "display_name": "Python 3"
    },
    "language_info": {
      "name": "python"
    }
  },
  "cells": [
    {
      "cell_type": "markdown",
      "metadata": {
        "id": "view-in-github",
        "colab_type": "text"
      },
      "source": [
        "<a href=\"https://colab.research.google.com/github/tata2351/My-Jupyter-Notebooke/blob/main/Lesson_7_Untitled23.ipynb\" target=\"_parent\"><img src=\"https://colab.research.google.com/assets/colab-badge.svg\" alt=\"Open In Colab\"/></a>"
      ]
    },
    {
      "cell_type": "markdown",
      "metadata": {
        "id": "GiBDwSJrrRMH"
      },
      "source": [
        ""
      ]
    },
    {
      "cell_type": "markdown",
      "metadata": {
        "id": "9V4Lfq29rJw7"
      },
      "source": [
        "--task1  (lesson7)\n",
        "-- sqlite3: Перенести таблицы pc, printer, product & laptop в локальную sqlite3 (те сделать снэпшот этих таблиц из postgreSQL в sqlite3 через python)."
      ]
    },
    {
      "cell_type": "code",
      "metadata": {
        "id": "N2oBCeBJrIuv"
      },
      "source": [
        "import sqlite3\n",
        "conn_sqlite = sqlite3.connect('TestDB_new.db')  \n",
        "\n",
        "\n",
        "\n",
        "import psycopg2\n",
        "import pandas as pd\n",
        "\n",
        "#!введите свои реквизиты!\n",
        "DB_HOST = '52.157.159.24'\n",
        "DB_USER = 'student23'\n",
        "DB_USER_PASSWORD = 'student23_password'\n",
        "DB_NAME = 'sql_ex_third_stream'\n",
        "\n",
        "conn_psql = psycopg2.connect(host=DB_HOST, user=DB_USER, password=DB_USER_PASSWORD, dbname=DB_NAME)\n",
        "\n",
        "\n",
        "# df = pd.read_sql('select * from laptop', conn_psql)\n",
        "\n",
        "# df.to_sql(name='laptop', con=conn_sqlite)\n",
        "\n",
        "# pd.read_sql('select * from laptop', conn_sqlite)"
      ],
      "execution_count": 18,
      "outputs": []
    },
    {
      "cell_type": "code",
      "metadata": {
        "id": "bSLpja1PnbwI"
      },
      "source": [
        ""
      ],
      "execution_count": null,
      "outputs": []
    },
    {
      "cell_type": "markdown",
      "metadata": {
        "id": "GXcp86vFnerX"
      },
      "source": [
        "--task2  (lesson7)\n",
        "-- sqlite3: сравнить скорость обработки таблиц sqlite3 vs postgresql на примере запроса: посчитать количество всех товаров стоимостью больше 500. (через %%time перед запросом в ноутбуке)"
      ]
    },
    {
      "cell_type": "code",
      "metadata": {
        "colab": {
          "base_uri": "https://localhost:8080/",
          "height": 380
        },
        "id": "PX3C35o7nb6E",
        "outputId": "5b221af2-b8eb-4a61-dcd0-c4666b828bf3"
      },
      "source": [
        "df = pd.read_sql('select * from pc', conn_psql)\n",
        "\n",
        "df.to_sql(name='pc', con=conn_sqlite)\n",
        "\n",
        "\n",
        "\n",
        "\n",
        "df = pd.read_sql('select * from printer', conn_psql)\n",
        "\n",
        "df.to_sql(name='printer', con=conn_sqlite)\n",
        "\n",
        "\n",
        "\n",
        "\n",
        "\n",
        "df = pd.read_sql('select * from product', conn_psql)\n",
        "\n",
        "df.to_sql(name='product', con=conn_sqlite)\n"
      ],
      "execution_count": 19,
      "outputs": [
        {
          "output_type": "error",
          "ename": "ValueError",
          "evalue": "ignored",
          "traceback": [
            "\u001b[0;31m---------------------------------------------------------------------------\u001b[0m",
            "\u001b[0;31mValueError\u001b[0m                                Traceback (most recent call last)",
            "\u001b[0;32m<ipython-input-19-4898276fca73>\u001b[0m in \u001b[0;36m<module>\u001b[0;34m()\u001b[0m\n\u001b[1;32m      1\u001b[0m \u001b[0mdf\u001b[0m \u001b[0;34m=\u001b[0m \u001b[0mpd\u001b[0m\u001b[0;34m.\u001b[0m\u001b[0mread_sql\u001b[0m\u001b[0;34m(\u001b[0m\u001b[0;34m'select * from pc'\u001b[0m\u001b[0;34m,\u001b[0m \u001b[0mconn_psql\u001b[0m\u001b[0;34m)\u001b[0m\u001b[0;34m\u001b[0m\u001b[0;34m\u001b[0m\u001b[0m\n\u001b[1;32m      2\u001b[0m \u001b[0;34m\u001b[0m\u001b[0m\n\u001b[0;32m----> 3\u001b[0;31m \u001b[0mdf\u001b[0m\u001b[0;34m.\u001b[0m\u001b[0mto_sql\u001b[0m\u001b[0;34m(\u001b[0m\u001b[0mname\u001b[0m\u001b[0;34m=\u001b[0m\u001b[0;34m'pc'\u001b[0m\u001b[0;34m,\u001b[0m \u001b[0mcon\u001b[0m\u001b[0;34m=\u001b[0m\u001b[0mconn_sqlite\u001b[0m\u001b[0;34m)\u001b[0m\u001b[0;34m\u001b[0m\u001b[0;34m\u001b[0m\u001b[0m\n\u001b[0m\u001b[1;32m      4\u001b[0m \u001b[0;34m\u001b[0m\u001b[0m\n\u001b[1;32m      5\u001b[0m \u001b[0;34m\u001b[0m\u001b[0m\n",
            "\u001b[0;32m/usr/local/lib/python3.7/dist-packages/pandas/core/generic.py\u001b[0m in \u001b[0;36mto_sql\u001b[0;34m(self, name, con, schema, if_exists, index, index_label, chunksize, dtype, method)\u001b[0m\n\u001b[1;32m   2613\u001b[0m             \u001b[0mchunksize\u001b[0m\u001b[0;34m=\u001b[0m\u001b[0mchunksize\u001b[0m\u001b[0;34m,\u001b[0m\u001b[0;34m\u001b[0m\u001b[0;34m\u001b[0m\u001b[0m\n\u001b[1;32m   2614\u001b[0m             \u001b[0mdtype\u001b[0m\u001b[0;34m=\u001b[0m\u001b[0mdtype\u001b[0m\u001b[0;34m,\u001b[0m\u001b[0;34m\u001b[0m\u001b[0;34m\u001b[0m\u001b[0m\n\u001b[0;32m-> 2615\u001b[0;31m             \u001b[0mmethod\u001b[0m\u001b[0;34m=\u001b[0m\u001b[0mmethod\u001b[0m\u001b[0;34m,\u001b[0m\u001b[0;34m\u001b[0m\u001b[0;34m\u001b[0m\u001b[0m\n\u001b[0m\u001b[1;32m   2616\u001b[0m         )\n\u001b[1;32m   2617\u001b[0m \u001b[0;34m\u001b[0m\u001b[0m\n",
            "\u001b[0;32m/usr/local/lib/python3.7/dist-packages/pandas/io/sql.py\u001b[0m in \u001b[0;36mto_sql\u001b[0;34m(frame, name, con, schema, if_exists, index, index_label, chunksize, dtype, method)\u001b[0m\n\u001b[1;32m    596\u001b[0m         \u001b[0mchunksize\u001b[0m\u001b[0;34m=\u001b[0m\u001b[0mchunksize\u001b[0m\u001b[0;34m,\u001b[0m\u001b[0;34m\u001b[0m\u001b[0;34m\u001b[0m\u001b[0m\n\u001b[1;32m    597\u001b[0m         \u001b[0mdtype\u001b[0m\u001b[0;34m=\u001b[0m\u001b[0mdtype\u001b[0m\u001b[0;34m,\u001b[0m\u001b[0;34m\u001b[0m\u001b[0;34m\u001b[0m\u001b[0m\n\u001b[0;32m--> 598\u001b[0;31m         \u001b[0mmethod\u001b[0m\u001b[0;34m=\u001b[0m\u001b[0mmethod\u001b[0m\u001b[0;34m,\u001b[0m\u001b[0;34m\u001b[0m\u001b[0;34m\u001b[0m\u001b[0m\n\u001b[0m\u001b[1;32m    599\u001b[0m     )\n\u001b[1;32m    600\u001b[0m \u001b[0;34m\u001b[0m\u001b[0m\n",
            "\u001b[0;32m/usr/local/lib/python3.7/dist-packages/pandas/io/sql.py\u001b[0m in \u001b[0;36mto_sql\u001b[0;34m(self, frame, name, if_exists, index, index_label, schema, chunksize, dtype, method)\u001b[0m\n\u001b[1;32m   1825\u001b[0m             \u001b[0mdtype\u001b[0m\u001b[0;34m=\u001b[0m\u001b[0mdtype\u001b[0m\u001b[0;34m,\u001b[0m\u001b[0;34m\u001b[0m\u001b[0;34m\u001b[0m\u001b[0m\n\u001b[1;32m   1826\u001b[0m         )\n\u001b[0;32m-> 1827\u001b[0;31m         \u001b[0mtable\u001b[0m\u001b[0;34m.\u001b[0m\u001b[0mcreate\u001b[0m\u001b[0;34m(\u001b[0m\u001b[0;34m)\u001b[0m\u001b[0;34m\u001b[0m\u001b[0;34m\u001b[0m\u001b[0m\n\u001b[0m\u001b[1;32m   1828\u001b[0m         \u001b[0mtable\u001b[0m\u001b[0;34m.\u001b[0m\u001b[0minsert\u001b[0m\u001b[0;34m(\u001b[0m\u001b[0mchunksize\u001b[0m\u001b[0;34m,\u001b[0m \u001b[0mmethod\u001b[0m\u001b[0;34m)\u001b[0m\u001b[0;34m\u001b[0m\u001b[0;34m\u001b[0m\u001b[0m\n\u001b[1;32m   1829\u001b[0m \u001b[0;34m\u001b[0m\u001b[0m\n",
            "\u001b[0;32m/usr/local/lib/python3.7/dist-packages/pandas/io/sql.py\u001b[0m in \u001b[0;36mcreate\u001b[0;34m(self)\u001b[0m\n\u001b[1;32m    721\u001b[0m         \u001b[0;32mif\u001b[0m \u001b[0mself\u001b[0m\u001b[0;34m.\u001b[0m\u001b[0mexists\u001b[0m\u001b[0;34m(\u001b[0m\u001b[0;34m)\u001b[0m\u001b[0;34m:\u001b[0m\u001b[0;34m\u001b[0m\u001b[0;34m\u001b[0m\u001b[0m\n\u001b[1;32m    722\u001b[0m             \u001b[0;32mif\u001b[0m \u001b[0mself\u001b[0m\u001b[0;34m.\u001b[0m\u001b[0mif_exists\u001b[0m \u001b[0;34m==\u001b[0m \u001b[0;34m\"fail\"\u001b[0m\u001b[0;34m:\u001b[0m\u001b[0;34m\u001b[0m\u001b[0;34m\u001b[0m\u001b[0m\n\u001b[0;32m--> 723\u001b[0;31m                 \u001b[0;32mraise\u001b[0m \u001b[0mValueError\u001b[0m\u001b[0;34m(\u001b[0m\u001b[0;34mf\"Table '{self.name}' already exists.\"\u001b[0m\u001b[0;34m)\u001b[0m\u001b[0;34m\u001b[0m\u001b[0;34m\u001b[0m\u001b[0m\n\u001b[0m\u001b[1;32m    724\u001b[0m             \u001b[0;32melif\u001b[0m \u001b[0mself\u001b[0m\u001b[0;34m.\u001b[0m\u001b[0mif_exists\u001b[0m \u001b[0;34m==\u001b[0m \u001b[0;34m\"replace\"\u001b[0m\u001b[0;34m:\u001b[0m\u001b[0;34m\u001b[0m\u001b[0;34m\u001b[0m\u001b[0m\n\u001b[1;32m    725\u001b[0m                 \u001b[0mself\u001b[0m\u001b[0;34m.\u001b[0m\u001b[0mpd_sql\u001b[0m\u001b[0;34m.\u001b[0m\u001b[0mdrop_table\u001b[0m\u001b[0;34m(\u001b[0m\u001b[0mself\u001b[0m\u001b[0;34m.\u001b[0m\u001b[0mname\u001b[0m\u001b[0;34m,\u001b[0m \u001b[0mself\u001b[0m\u001b[0;34m.\u001b[0m\u001b[0mschema\u001b[0m\u001b[0;34m)\u001b[0m\u001b[0;34m\u001b[0m\u001b[0;34m\u001b[0m\u001b[0m\n",
            "\u001b[0;31mValueError\u001b[0m: Table 'pc' already exists."
          ]
        }
      ]
    },
    {
      "cell_type": "markdown",
      "metadata": {
        "id": "bIMOAifLszY3"
      },
      "source": [
        ""
      ]
    },
    {
      "cell_type": "code",
      "metadata": {
        "colab": {
          "base_uri": "https://localhost:8080/",
          "height": 272
        },
        "id": "98HUcJuGnb9i",
        "outputId": "4196ea47-9a32-4eda-b718-6d57e19411ee"
      },
      "source": [
        "%%time \n",
        "pd.read_sql('select * from laptop', conn_sqlite)\n"
      ],
      "execution_count": 16,
      "outputs": [
        {
          "output_type": "stream",
          "name": "stdout",
          "text": [
            "CPU times: user 3.05 ms, sys: 850 µs, total: 3.9 ms\n",
            "Wall time: 5.53 ms\n"
          ]
        },
        {
          "output_type": "execute_result",
          "data": {
            "text/html": [
              "<div>\n",
              "<style scoped>\n",
              "    .dataframe tbody tr th:only-of-type {\n",
              "        vertical-align: middle;\n",
              "    }\n",
              "\n",
              "    .dataframe tbody tr th {\n",
              "        vertical-align: top;\n",
              "    }\n",
              "\n",
              "    .dataframe thead th {\n",
              "        text-align: right;\n",
              "    }\n",
              "</style>\n",
              "<table border=\"1\" class=\"dataframe\">\n",
              "  <thead>\n",
              "    <tr style=\"text-align: right;\">\n",
              "      <th></th>\n",
              "      <th>index</th>\n",
              "      <th>code</th>\n",
              "      <th>model</th>\n",
              "      <th>speed</th>\n",
              "      <th>ram</th>\n",
              "      <th>hd</th>\n",
              "      <th>price</th>\n",
              "      <th>screen</th>\n",
              "    </tr>\n",
              "  </thead>\n",
              "  <tbody>\n",
              "    <tr>\n",
              "      <th>0</th>\n",
              "      <td>0</td>\n",
              "      <td>1</td>\n",
              "      <td>1298</td>\n",
              "      <td>350</td>\n",
              "      <td>32</td>\n",
              "      <td>4.0</td>\n",
              "      <td>700.0</td>\n",
              "      <td>11</td>\n",
              "    </tr>\n",
              "    <tr>\n",
              "      <th>1</th>\n",
              "      <td>1</td>\n",
              "      <td>2</td>\n",
              "      <td>1321</td>\n",
              "      <td>500</td>\n",
              "      <td>64</td>\n",
              "      <td>8.0</td>\n",
              "      <td>970.0</td>\n",
              "      <td>12</td>\n",
              "    </tr>\n",
              "    <tr>\n",
              "      <th>2</th>\n",
              "      <td>2</td>\n",
              "      <td>3</td>\n",
              "      <td>1750</td>\n",
              "      <td>750</td>\n",
              "      <td>128</td>\n",
              "      <td>12.0</td>\n",
              "      <td>1200.0</td>\n",
              "      <td>14</td>\n",
              "    </tr>\n",
              "    <tr>\n",
              "      <th>3</th>\n",
              "      <td>3</td>\n",
              "      <td>4</td>\n",
              "      <td>1298</td>\n",
              "      <td>600</td>\n",
              "      <td>64</td>\n",
              "      <td>10.0</td>\n",
              "      <td>1050.0</td>\n",
              "      <td>15</td>\n",
              "    </tr>\n",
              "    <tr>\n",
              "      <th>4</th>\n",
              "      <td>4</td>\n",
              "      <td>5</td>\n",
              "      <td>1752</td>\n",
              "      <td>750</td>\n",
              "      <td>128</td>\n",
              "      <td>10.0</td>\n",
              "      <td>1150.0</td>\n",
              "      <td>14</td>\n",
              "    </tr>\n",
              "    <tr>\n",
              "      <th>5</th>\n",
              "      <td>5</td>\n",
              "      <td>6</td>\n",
              "      <td>1298</td>\n",
              "      <td>450</td>\n",
              "      <td>64</td>\n",
              "      <td>10.0</td>\n",
              "      <td>950.0</td>\n",
              "      <td>12</td>\n",
              "    </tr>\n",
              "  </tbody>\n",
              "</table>\n",
              "</div>"
            ],
            "text/plain": [
              "   index  code model  speed  ram    hd   price  screen\n",
              "0      0     1  1298    350   32   4.0   700.0      11\n",
              "1      1     2  1321    500   64   8.0   970.0      12\n",
              "2      2     3  1750    750  128  12.0  1200.0      14\n",
              "3      3     4  1298    600   64  10.0  1050.0      15\n",
              "4      4     5  1752    750  128  10.0  1150.0      14\n",
              "5      5     6  1298    450   64  10.0   950.0      12"
            ]
          },
          "metadata": {},
          "execution_count": 16
        }
      ]
    },
    {
      "cell_type": "code",
      "metadata": {
        "id": "2j2ygE9lo6Q1"
      },
      "source": [
        ""
      ],
      "execution_count": null,
      "outputs": []
    },
    {
      "cell_type": "code",
      "metadata": {
        "colab": {
          "base_uri": "https://localhost:8080/",
          "height": 272
        },
        "id": "9wVuYRnoncA0",
        "outputId": "ccca41b5-6b5c-4886-a2e7-0f874370603f"
      },
      "source": [
        "%%time \n",
        "pd.read_sql('select * from laptop', conn_psql)"
      ],
      "execution_count": 17,
      "outputs": [
        {
          "output_type": "stream",
          "name": "stdout",
          "text": [
            "CPU times: user 1.77 ms, sys: 1.18 ms, total: 2.95 ms\n",
            "Wall time: 85.5 ms\n"
          ]
        },
        {
          "output_type": "execute_result",
          "data": {
            "text/html": [
              "<div>\n",
              "<style scoped>\n",
              "    .dataframe tbody tr th:only-of-type {\n",
              "        vertical-align: middle;\n",
              "    }\n",
              "\n",
              "    .dataframe tbody tr th {\n",
              "        vertical-align: top;\n",
              "    }\n",
              "\n",
              "    .dataframe thead th {\n",
              "        text-align: right;\n",
              "    }\n",
              "</style>\n",
              "<table border=\"1\" class=\"dataframe\">\n",
              "  <thead>\n",
              "    <tr style=\"text-align: right;\">\n",
              "      <th></th>\n",
              "      <th>code</th>\n",
              "      <th>model</th>\n",
              "      <th>speed</th>\n",
              "      <th>ram</th>\n",
              "      <th>hd</th>\n",
              "      <th>price</th>\n",
              "      <th>screen</th>\n",
              "    </tr>\n",
              "  </thead>\n",
              "  <tbody>\n",
              "    <tr>\n",
              "      <th>0</th>\n",
              "      <td>1</td>\n",
              "      <td>1298</td>\n",
              "      <td>350</td>\n",
              "      <td>32</td>\n",
              "      <td>4.0</td>\n",
              "      <td>700.0</td>\n",
              "      <td>11</td>\n",
              "    </tr>\n",
              "    <tr>\n",
              "      <th>1</th>\n",
              "      <td>2</td>\n",
              "      <td>1321</td>\n",
              "      <td>500</td>\n",
              "      <td>64</td>\n",
              "      <td>8.0</td>\n",
              "      <td>970.0</td>\n",
              "      <td>12</td>\n",
              "    </tr>\n",
              "    <tr>\n",
              "      <th>2</th>\n",
              "      <td>3</td>\n",
              "      <td>1750</td>\n",
              "      <td>750</td>\n",
              "      <td>128</td>\n",
              "      <td>12.0</td>\n",
              "      <td>1200.0</td>\n",
              "      <td>14</td>\n",
              "    </tr>\n",
              "    <tr>\n",
              "      <th>3</th>\n",
              "      <td>4</td>\n",
              "      <td>1298</td>\n",
              "      <td>600</td>\n",
              "      <td>64</td>\n",
              "      <td>10.0</td>\n",
              "      <td>1050.0</td>\n",
              "      <td>15</td>\n",
              "    </tr>\n",
              "    <tr>\n",
              "      <th>4</th>\n",
              "      <td>5</td>\n",
              "      <td>1752</td>\n",
              "      <td>750</td>\n",
              "      <td>128</td>\n",
              "      <td>10.0</td>\n",
              "      <td>1150.0</td>\n",
              "      <td>14</td>\n",
              "    </tr>\n",
              "    <tr>\n",
              "      <th>5</th>\n",
              "      <td>6</td>\n",
              "      <td>1298</td>\n",
              "      <td>450</td>\n",
              "      <td>64</td>\n",
              "      <td>10.0</td>\n",
              "      <td>950.0</td>\n",
              "      <td>12</td>\n",
              "    </tr>\n",
              "  </tbody>\n",
              "</table>\n",
              "</div>"
            ],
            "text/plain": [
              "   code model  speed  ram    hd   price  screen\n",
              "0     1  1298    350   32   4.0   700.0      11\n",
              "1     2  1321    500   64   8.0   970.0      12\n",
              "2     3  1750    750  128  12.0  1200.0      14\n",
              "3     4  1298    600   64  10.0  1050.0      15\n",
              "4     5  1752    750  128  10.0  1150.0      14\n",
              "5     6  1298    450   64  10.0   950.0      12"
            ]
          },
          "metadata": {},
          "execution_count": 17
        }
      ]
    },
    {
      "cell_type": "markdown",
      "metadata": {
        "id": "M7HgNAYos0XV"
      },
      "source": [
        " NO sql"
      ]
    },
    {
      "cell_type": "code",
      "metadata": {
        "colab": {
          "base_uri": "https://localhost:8080/"
        },
        "id": "iPER_46Ts3K3",
        "outputId": "3bd314c0-76b1-4bc9-f50d-a540550892ab"
      },
      "source": [
        "import sys\n",
        "!{sys.executable} -m pip install sqlitedict"
      ],
      "execution_count": 20,
      "outputs": [
        {
          "output_type": "stream",
          "name": "stdout",
          "text": [
            "Collecting sqlitedict\n",
            "  Downloading sqlitedict-1.7.0.tar.gz (28 kB)\n",
            "Building wheels for collected packages: sqlitedict\n",
            "  Building wheel for sqlitedict (setup.py) ... \u001b[?25l\u001b[?25hdone\n",
            "  Created wheel for sqlitedict: filename=sqlitedict-1.7.0-py3-none-any.whl size=14392 sha256=21b3236004621d15f46bb838905dc7dfa7f6da46ad8af79e792f76133a6361e0\n",
            "  Stored in directory: /root/.cache/pip/wheels/af/94/06/18c0e83e9e227da8f3582810b51f319bbfd181e508676a56c8\n",
            "Successfully built sqlitedict\n",
            "Installing collected packages: sqlitedict\n",
            "Successfully installed sqlitedict-1.7.0\n"
          ]
        }
      ]
    },
    {
      "cell_type": "code",
      "metadata": {
        "id": "qmSe2_WCs5AC"
      },
      "source": [
        "import sqlitedict\n",
        "import pandas as pd"
      ],
      "execution_count": 21,
      "outputs": []
    },
    {
      "cell_type": "code",
      "metadata": {
        "id": "g3MhXsfBtIsV"
      },
      "source": [
        "from sqlitedict import SqliteDict\n",
        "mydict = SqliteDict('TestDB_key_value.sqlite', autocommit=True)"
      ],
      "execution_count": 22,
      "outputs": []
    },
    {
      "cell_type": "code",
      "metadata": {
        "id": "luATUndFtIvb"
      },
      "source": [
        "mydict['key1'] = 'value1'\n",
        "mydict['key2'] = ['123',123]\n",
        "mydict['key3'] = pd.DataFrame()\n",
        "mydict.commit()\n",
        "# mydict.close()"
      ],
      "execution_count": 23,
      "outputs": []
    },
    {
      "cell_type": "code",
      "metadata": {
        "id": "qeeWUNfTt5wu"
      },
      "source": [
        "mydict['lesson2_2'] = 'select * from pc'\n",
        "mydict.commit()"
      ],
      "execution_count": 26,
      "outputs": []
    },
    {
      "cell_type": "code",
      "metadata": {
        "colab": {
          "base_uri": "https://localhost:8080/"
        },
        "id": "C3Qym2i4tIyo",
        "outputId": "174bcdd7-cb10-45b3-f35e-198e44dd5583"
      },
      "source": [
        "print(mydict['key1'])\n",
        "print(mydict['key2'])\n",
        "print(mydict['key3'])"
      ],
      "execution_count": 27,
      "outputs": [
        {
          "output_type": "stream",
          "name": "stdout",
          "text": [
            "value1\n",
            "['123', 123]\n",
            "Empty DataFrame\n",
            "Columns: []\n",
            "Index: []\n"
          ]
        }
      ]
    },
    {
      "cell_type": "code",
      "metadata": {
        "id": "yf3-pbpptI14"
      },
      "source": [
        ""
      ],
      "execution_count": 27,
      "outputs": []
    },
    {
      "cell_type": "markdown",
      "metadata": {
        "id": "PGEHlVHHuK3D"
      },
      "source": [
        "--task4 (lesson7)\n",
        "-- sqlitedict: загрузите любую вашу домашнюю работу (через скрипт) в таблицу (test table). Ключ: lesson2_2, Значение: sql запрос"
      ]
    },
    {
      "cell_type": "code",
      "metadata": {
        "id": "bAP8WEzStI5W"
      },
      "source": [
        "mydict['lesson2_2'] = 'select * from pc'\n",
        "mydict.commit()"
      ],
      "execution_count": 28,
      "outputs": []
    },
    {
      "cell_type": "code",
      "metadata": {
        "colab": {
          "base_uri": "https://localhost:8080/"
        },
        "id": "bg2RFSwRtI77",
        "outputId": "4530eb26-c49e-47b6-80db-c6b0efac1c44"
      },
      "source": [
        "print(mydict['lesson2_2'])"
      ],
      "execution_count": 32,
      "outputs": [
        {
          "output_type": "stream",
          "name": "stdout",
          "text": [
            "select * from pc\n"
          ]
        }
      ]
    },
    {
      "cell_type": "code",
      "metadata": {
        "id": "5Y_12DpmwQZe"
      },
      "source": [
        "## Nosql документная база данных"
      ],
      "execution_count": null,
      "outputs": []
    },
    {
      "cell_type": "code",
      "metadata": {
        "colab": {
          "base_uri": "https://localhost:8080/"
        },
        "id": "A_3OKR8QwQdC",
        "outputId": "e2392c59-8ba8-4dd6-901c-6824040bca6b"
      },
      "source": [
        "!{sys.executable} -m pip install tinydb"
      ],
      "execution_count": 33,
      "outputs": [
        {
          "output_type": "stream",
          "name": "stdout",
          "text": [
            "Collecting tinydb\n",
            "  Downloading tinydb-4.5.2-py3-none-any.whl (23 kB)\n",
            "Requirement already satisfied: typing-extensions<4.0.0,>=3.10.0 in /usr/local/lib/python3.7/dist-packages (from tinydb) (3.10.0.2)\n",
            "Installing collected packages: tinydb\n",
            "Successfully installed tinydb-4.5.2\n"
          ]
        }
      ]
    },
    {
      "cell_type": "code",
      "metadata": {
        "id": "z4zmHPUOwQfz"
      },
      "source": [
        "from tinydb import TinyDB, Query"
      ],
      "execution_count": 34,
      "outputs": []
    },
    {
      "cell_type": "code",
      "metadata": {
        "colab": {
          "base_uri": "https://localhost:8080/"
        },
        "id": "kmjzNB-KwQjD",
        "outputId": "2b8bc190-0c6a-458f-a836-1cd27f6f8d08"
      },
      "source": [
        "from tinydb import TinyDB, Query\n",
        "db = TinyDB('db.json')\n",
        "db.insert({'int': 1, 'char': 'a'})\n",
        "db.insert({'int': 1, 'char': 'b'})"
      ],
      "execution_count": 35,
      "outputs": [
        {
          "output_type": "execute_result",
          "data": {
            "text/plain": [
              "2"
            ]
          },
          "metadata": {},
          "execution_count": 35
        }
      ]
    },
    {
      "cell_type": "code",
      "metadata": {
        "colab": {
          "base_uri": "https://localhost:8080/"
        },
        "id": "LKsrVG4mwQmE",
        "outputId": "a112380f-f2a3-43ab-9eb9-26a8319ff1fb"
      },
      "source": [
        "User = Query()\n",
        "db.search(User.char == 'a')"
      ],
      "execution_count": 36,
      "outputs": [
        {
          "output_type": "execute_result",
          "data": {
            "text/plain": [
              "[{'char': 'a', 'int': 1}]"
            ]
          },
          "metadata": {},
          "execution_count": 36
        }
      ]
    },
    {
      "cell_type": "code",
      "metadata": {
        "id": "_dQ9HEvrwtz-"
      },
      "source": [
        "##task5 (lesson7)\n",
        "## sqlitedict: загрузите все домашние работы в формате json в таблицу test table.  Ключ: lesson2_2, Значение: sql запрос"
      ],
      "execution_count": null,
      "outputs": []
    },
    {
      "cell_type": "markdown",
      "metadata": {
        "id": "GJJwbhdSzSYj"
      },
      "source": [
        ""
      ]
    },
    {
      "cell_type": "code",
      "metadata": {
        "colab": {
          "base_uri": "https://localhost:8080/"
        },
        "id": "h9rR8cSPwt7v",
        "outputId": "5e2bae46-1fe7-4a1c-bfe1-8f59b9b99f72"
      },
      "source": [
        "from tinydb import TinyDB, Query\n",
        "db = TinyDB('db.json')\n",
        "db.insert({'lesson': 1, 'exercise': 2, 'sql': 'select * from pc'})\n",
        "\n",
        "\n",
        "User = Query()\n",
        "db.search(User.lesson == 1)"
      ],
      "execution_count": 47,
      "outputs": [
        {
          "output_type": "execute_result",
          "data": {
            "text/plain": [
              "[{'exercise': 2, 'lesson': 1, 'sql': 'select * from ...'},\n",
              " {'exercise': 2, 'lesson': 1, 'sql': 'select * from ...'},\n",
              " {'exercise': 2, 'lesson': 1, 'sql': 'select * from pc'},\n",
              " {'exercise': 2, 'lesson': 1, 'sql': 'select * from pc'}]"
            ]
          },
          "metadata": {},
          "execution_count": 47
        }
      ]
    },
    {
      "cell_type": "code",
      "metadata": {
        "id": "KGCqoyK_yNA4"
      },
      "source": [
        "\n",
        "\n"
      ],
      "execution_count": 45,
      "outputs": []
    }
  ]
}