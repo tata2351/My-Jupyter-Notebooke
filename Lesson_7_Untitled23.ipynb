{
  "nbformat": 4,
  "nbformat_minor": 0,
  "metadata": {
    "colab": {
      "name": "Lesson 7-Untitled23.ipynb",
      "provenance": [],
      "authorship_tag": "ABX9TyND3+9O/a5/Jatqpknezwl/",
      "include_colab_link": true
    },
    "kernelspec": {
      "name": "python3",
      "display_name": "Python 3"
    },
    "language_info": {
      "name": "python"
    }
  },
  "cells": [
    {
      "cell_type": "markdown",
      "metadata": {
        "id": "view-in-github",
        "colab_type": "text"
      },
      "source": [
        "<a href=\"https://colab.research.google.com/github/tata2351/My-Jupyter-Notebooke/blob/main/Lesson_7_Untitled23.ipynb\" target=\"_parent\"><img src=\"https://colab.research.google.com/assets/colab-badge.svg\" alt=\"Open In Colab\"/></a>"
      ]
    },
    {
      "cell_type": "markdown",
      "metadata": {
        "id": "GiBDwSJrrRMH"
      },
      "source": [
        ""
      ]
    },
    {
      "cell_type": "markdown",
      "metadata": {
        "id": "9V4Lfq29rJw7"
      },
      "source": [
        "--task1  (lesson7)\n",
        "-- sqlite3: Перенести таблицы pc, printer, product & laptop в локальную sqlite3 (те сделать снэпшот этих таблиц из postgreSQL в sqlite3 через python)."
      ]
    },
    {
      "cell_type": "code",
      "metadata": {
        "id": "N2oBCeBJrIuv",
        "outputId": "09344069-1c6c-455b-b9be-6023ebe58daa",
        "colab": {
          "base_uri": "https://localhost:8080/"
        }
      },
      "source": [
        "import sqlite3\n",
        "conn_sqlite = sqlite3.connect('TestDB_new.db')  \n",
        "\n",
        "\n",
        "\n",
        "import psycopg2\n",
        "import pandas as pd\n",
        "\n",
        "#!введите свои реквизиты!\n",
        "DB_HOST = '52.157.159.24'\n",
        "DB_USER = 'student23'\n",
        "DB_USER_PASSWORD = 'student23_password'\n",
        "DB_NAME = 'sql_ex_third_stream'\n",
        "\n",
        "conn_psql = psycopg2.connect(host=DB_HOST, user=DB_USER, password=DB_USER_PASSWORD, dbname=DB_NAME)\n",
        "\n",
        "\n",
        "# df = pd.read_sql('select * from laptop', conn_psql)\n",
        "\n",
        "# df.to_sql(name='laptop', con=conn_sqlite)\n",
        "\n",
        "# pd.read_sql('select * from laptop', conn_sqlite)"
      ],
      "execution_count": 2,
      "outputs": [
        {
          "output_type": "stream",
          "name": "stderr",
          "text": [
            "/usr/local/lib/python3.7/dist-packages/psycopg2/__init__.py:144: UserWarning: The psycopg2 wheel package will be renamed from release 2.8; in order to keep installing from binary please use \"pip install psycopg2-binary\" instead. For details see: <http://initd.org/psycopg/docs/install.html#binary-install-from-pypi>.\n",
            "  \"\"\")\n"
          ]
        }
      ]
    },
    {
      "cell_type": "code",
      "metadata": {
        "id": "bSLpja1PnbwI"
      },
      "source": [
        ""
      ],
      "execution_count": null,
      "outputs": []
    },
    {
      "cell_type": "markdown",
      "metadata": {
        "id": "GXcp86vFnerX"
      },
      "source": [
        "--task2  (lesson7)\n",
        "-- sqlite3: сравнить скорость обработки таблиц sqlite3 vs postgresql на примере запроса: посчитать количество всех товаров стоимостью больше 500. (через %%time перед запросом в ноутбуке)"
      ]
    },
    {
      "cell_type": "code",
      "metadata": {
        "id": "PX3C35o7nb6E"
      },
      "source": [
        "df = pd.read_sql('select * from pc', conn_psql)\n",
        "\n",
        "df.to_sql(name='pc', con=conn_sqlite)\n",
        "\n",
        "\n",
        "\n",
        "\n",
        "df = pd.read_sql('select * from printer', conn_psql)\n",
        "\n",
        "df.to_sql(name='printer', con=conn_sqlite)\n",
        "\n",
        "\n",
        "\n",
        "\n",
        "\n",
        "df = pd.read_sql('select * from product', conn_psql)\n",
        "\n",
        "df.to_sql(name='product', con=conn_sqlite)\n"
      ],
      "execution_count": 3,
      "outputs": []
    },
    {
      "cell_type": "markdown",
      "metadata": {
        "id": "bIMOAifLszY3"
      },
      "source": [
        ""
      ]
    },
    {
      "cell_type": "code",
      "metadata": {
        "colab": {
          "base_uri": "https://localhost:8080/",
          "height": 272
        },
        "id": "98HUcJuGnb9i",
        "outputId": "4196ea47-9a32-4eda-b718-6d57e19411ee"
      },
      "source": [
        "%%time \n",
        "pd.read_sql('select * from laptop', conn_sqlite)\n"
      ],
      "execution_count": null,
      "outputs": [
        {
          "output_type": "stream",
          "name": "stdout",
          "text": [
            "CPU times: user 3.05 ms, sys: 850 µs, total: 3.9 ms\n",
            "Wall time: 5.53 ms\n"
          ]
        },
        {
          "output_type": "execute_result",
          "data": {
            "text/html": [
              "<div>\n",
              "<style scoped>\n",
              "    .dataframe tbody tr th:only-of-type {\n",
              "        vertical-align: middle;\n",
              "    }\n",
              "\n",
              "    .dataframe tbody tr th {\n",
              "        vertical-align: top;\n",
              "    }\n",
              "\n",
              "    .dataframe thead th {\n",
              "        text-align: right;\n",
              "    }\n",
              "</style>\n",
              "<table border=\"1\" class=\"dataframe\">\n",
              "  <thead>\n",
              "    <tr style=\"text-align: right;\">\n",
              "      <th></th>\n",
              "      <th>index</th>\n",
              "      <th>code</th>\n",
              "      <th>model</th>\n",
              "      <th>speed</th>\n",
              "      <th>ram</th>\n",
              "      <th>hd</th>\n",
              "      <th>price</th>\n",
              "      <th>screen</th>\n",
              "    </tr>\n",
              "  </thead>\n",
              "  <tbody>\n",
              "    <tr>\n",
              "      <th>0</th>\n",
              "      <td>0</td>\n",
              "      <td>1</td>\n",
              "      <td>1298</td>\n",
              "      <td>350</td>\n",
              "      <td>32</td>\n",
              "      <td>4.0</td>\n",
              "      <td>700.0</td>\n",
              "      <td>11</td>\n",
              "    </tr>\n",
              "    <tr>\n",
              "      <th>1</th>\n",
              "      <td>1</td>\n",
              "      <td>2</td>\n",
              "      <td>1321</td>\n",
              "      <td>500</td>\n",
              "      <td>64</td>\n",
              "      <td>8.0</td>\n",
              "      <td>970.0</td>\n",
              "      <td>12</td>\n",
              "    </tr>\n",
              "    <tr>\n",
              "      <th>2</th>\n",
              "      <td>2</td>\n",
              "      <td>3</td>\n",
              "      <td>1750</td>\n",
              "      <td>750</td>\n",
              "      <td>128</td>\n",
              "      <td>12.0</td>\n",
              "      <td>1200.0</td>\n",
              "      <td>14</td>\n",
              "    </tr>\n",
              "    <tr>\n",
              "      <th>3</th>\n",
              "      <td>3</td>\n",
              "      <td>4</td>\n",
              "      <td>1298</td>\n",
              "      <td>600</td>\n",
              "      <td>64</td>\n",
              "      <td>10.0</td>\n",
              "      <td>1050.0</td>\n",
              "      <td>15</td>\n",
              "    </tr>\n",
              "    <tr>\n",
              "      <th>4</th>\n",
              "      <td>4</td>\n",
              "      <td>5</td>\n",
              "      <td>1752</td>\n",
              "      <td>750</td>\n",
              "      <td>128</td>\n",
              "      <td>10.0</td>\n",
              "      <td>1150.0</td>\n",
              "      <td>14</td>\n",
              "    </tr>\n",
              "    <tr>\n",
              "      <th>5</th>\n",
              "      <td>5</td>\n",
              "      <td>6</td>\n",
              "      <td>1298</td>\n",
              "      <td>450</td>\n",
              "      <td>64</td>\n",
              "      <td>10.0</td>\n",
              "      <td>950.0</td>\n",
              "      <td>12</td>\n",
              "    </tr>\n",
              "  </tbody>\n",
              "</table>\n",
              "</div>"
            ],
            "text/plain": [
              "   index  code model  speed  ram    hd   price  screen\n",
              "0      0     1  1298    350   32   4.0   700.0      11\n",
              "1      1     2  1321    500   64   8.0   970.0      12\n",
              "2      2     3  1750    750  128  12.0  1200.0      14\n",
              "3      3     4  1298    600   64  10.0  1050.0      15\n",
              "4      4     5  1752    750  128  10.0  1150.0      14\n",
              "5      5     6  1298    450   64  10.0   950.0      12"
            ]
          },
          "metadata": {},
          "execution_count": 16
        }
      ]
    },
    {
      "cell_type": "code",
      "metadata": {
        "id": "2j2ygE9lo6Q1"
      },
      "source": [
        ""
      ],
      "execution_count": null,
      "outputs": []
    },
    {
      "cell_type": "code",
      "metadata": {
        "colab": {
          "base_uri": "https://localhost:8080/",
          "height": 272
        },
        "id": "9wVuYRnoncA0",
        "outputId": "095e1973-75ff-4053-b341-fcc352801ee0"
      },
      "source": [
        "%%time \n",
        "pd.read_sql('select * from laptop', conn_psql)"
      ],
      "execution_count": 4,
      "outputs": [
        {
          "output_type": "stream",
          "name": "stdout",
          "text": [
            "CPU times: user 4.54 ms, sys: 89 µs, total: 4.63 ms\n",
            "Wall time: 10.4 ms\n"
          ]
        },
        {
          "output_type": "execute_result",
          "data": {
            "text/html": [
              "<div>\n",
              "<style scoped>\n",
              "    .dataframe tbody tr th:only-of-type {\n",
              "        vertical-align: middle;\n",
              "    }\n",
              "\n",
              "    .dataframe tbody tr th {\n",
              "        vertical-align: top;\n",
              "    }\n",
              "\n",
              "    .dataframe thead th {\n",
              "        text-align: right;\n",
              "    }\n",
              "</style>\n",
              "<table border=\"1\" class=\"dataframe\">\n",
              "  <thead>\n",
              "    <tr style=\"text-align: right;\">\n",
              "      <th></th>\n",
              "      <th>code</th>\n",
              "      <th>model</th>\n",
              "      <th>speed</th>\n",
              "      <th>ram</th>\n",
              "      <th>hd</th>\n",
              "      <th>price</th>\n",
              "      <th>screen</th>\n",
              "    </tr>\n",
              "  </thead>\n",
              "  <tbody>\n",
              "    <tr>\n",
              "      <th>0</th>\n",
              "      <td>1</td>\n",
              "      <td>1298</td>\n",
              "      <td>350</td>\n",
              "      <td>32</td>\n",
              "      <td>4.0</td>\n",
              "      <td>700.0</td>\n",
              "      <td>11</td>\n",
              "    </tr>\n",
              "    <tr>\n",
              "      <th>1</th>\n",
              "      <td>2</td>\n",
              "      <td>1321</td>\n",
              "      <td>500</td>\n",
              "      <td>64</td>\n",
              "      <td>8.0</td>\n",
              "      <td>970.0</td>\n",
              "      <td>12</td>\n",
              "    </tr>\n",
              "    <tr>\n",
              "      <th>2</th>\n",
              "      <td>3</td>\n",
              "      <td>1750</td>\n",
              "      <td>750</td>\n",
              "      <td>128</td>\n",
              "      <td>12.0</td>\n",
              "      <td>1200.0</td>\n",
              "      <td>14</td>\n",
              "    </tr>\n",
              "    <tr>\n",
              "      <th>3</th>\n",
              "      <td>4</td>\n",
              "      <td>1298</td>\n",
              "      <td>600</td>\n",
              "      <td>64</td>\n",
              "      <td>10.0</td>\n",
              "      <td>1050.0</td>\n",
              "      <td>15</td>\n",
              "    </tr>\n",
              "    <tr>\n",
              "      <th>4</th>\n",
              "      <td>5</td>\n",
              "      <td>1752</td>\n",
              "      <td>750</td>\n",
              "      <td>128</td>\n",
              "      <td>10.0</td>\n",
              "      <td>1150.0</td>\n",
              "      <td>14</td>\n",
              "    </tr>\n",
              "    <tr>\n",
              "      <th>5</th>\n",
              "      <td>6</td>\n",
              "      <td>1298</td>\n",
              "      <td>450</td>\n",
              "      <td>64</td>\n",
              "      <td>10.0</td>\n",
              "      <td>950.0</td>\n",
              "      <td>12</td>\n",
              "    </tr>\n",
              "  </tbody>\n",
              "</table>\n",
              "</div>"
            ],
            "text/plain": [
              "   code model  speed  ram    hd   price  screen\n",
              "0     1  1298    350   32   4.0   700.0      11\n",
              "1     2  1321    500   64   8.0   970.0      12\n",
              "2     3  1750    750  128  12.0  1200.0      14\n",
              "3     4  1298    600   64  10.0  1050.0      15\n",
              "4     5  1752    750  128  10.0  1150.0      14\n",
              "5     6  1298    450   64  10.0   950.0      12"
            ]
          },
          "metadata": {},
          "execution_count": 4
        }
      ]
    },
    {
      "cell_type": "markdown",
      "metadata": {
        "id": "M7HgNAYos0XV"
      },
      "source": [
        " NO sql"
      ]
    },
    {
      "cell_type": "code",
      "metadata": {
        "colab": {
          "base_uri": "https://localhost:8080/"
        },
        "id": "iPER_46Ts3K3",
        "outputId": "df6c5c80-83a6-4592-964a-32c20c3bd39d"
      },
      "source": [
        "import sys\n",
        "!{sys.executable} -m pip install sqlitedict"
      ],
      "execution_count": 5,
      "outputs": [
        {
          "output_type": "stream",
          "name": "stdout",
          "text": [
            "Collecting sqlitedict\n",
            "  Downloading sqlitedict-1.7.0.tar.gz (28 kB)\n",
            "Building wheels for collected packages: sqlitedict\n",
            "  Building wheel for sqlitedict (setup.py) ... \u001b[?25l\u001b[?25hdone\n",
            "  Created wheel for sqlitedict: filename=sqlitedict-1.7.0-py3-none-any.whl size=14392 sha256=566e1c32f3e1540743482e3fe881cc55de908cb415a9b3385370021605e2db41\n",
            "  Stored in directory: /root/.cache/pip/wheels/af/94/06/18c0e83e9e227da8f3582810b51f319bbfd181e508676a56c8\n",
            "Successfully built sqlitedict\n",
            "Installing collected packages: sqlitedict\n",
            "Successfully installed sqlitedict-1.7.0\n"
          ]
        }
      ]
    },
    {
      "cell_type": "code",
      "metadata": {
        "id": "qmSe2_WCs5AC"
      },
      "source": [
        "import sqlitedict\n",
        "import pandas as pd"
      ],
      "execution_count": 6,
      "outputs": []
    },
    {
      "cell_type": "code",
      "metadata": {
        "id": "g3MhXsfBtIsV"
      },
      "source": [
        "from sqlitedict import SqliteDict\n",
        "mydict = SqliteDict('TestDB_key_value.sqlite', autocommit=True)"
      ],
      "execution_count": 7,
      "outputs": []
    },
    {
      "cell_type": "code",
      "metadata": {
        "id": "luATUndFtIvb"
      },
      "source": [
        "mydict['key1'] = 'value1'\n",
        "mydict['key2'] = ['123',123]\n",
        "mydict['key3'] = pd.DataFrame()\n",
        "mydict.commit()\n",
        "# mydict.close()"
      ],
      "execution_count": 8,
      "outputs": []
    },
    {
      "cell_type": "code",
      "metadata": {
        "id": "qeeWUNfTt5wu"
      },
      "source": [
        "mydict['lesson2_2'] = 'select * from pc'\n",
        "mydict.commit()"
      ],
      "execution_count": 9,
      "outputs": []
    },
    {
      "cell_type": "code",
      "metadata": {
        "colab": {
          "base_uri": "https://localhost:8080/"
        },
        "id": "C3Qym2i4tIyo",
        "outputId": "40f7b849-396a-4005-84d8-bc3b0498dbfc"
      },
      "source": [
        "print(mydict['key1'])\n",
        "print(mydict['key2'])\n",
        "print(mydict['key3'])"
      ],
      "execution_count": 10,
      "outputs": [
        {
          "output_type": "stream",
          "name": "stdout",
          "text": [
            "value1\n",
            "['123', 123]\n",
            "Empty DataFrame\n",
            "Columns: []\n",
            "Index: []\n"
          ]
        }
      ]
    },
    {
      "cell_type": "code",
      "metadata": {
        "id": "yf3-pbpptI14"
      },
      "source": [
        ""
      ],
      "execution_count": null,
      "outputs": []
    },
    {
      "cell_type": "markdown",
      "metadata": {
        "id": "PGEHlVHHuK3D"
      },
      "source": [
        "--task4 (lesson7)\n",
        "-- sqlitedict: загрузите любую вашу домашнюю работу (через скрипт) в таблицу (test table). Ключ: lesson2_2, Значение: sql запрос"
      ]
    },
    {
      "cell_type": "code",
      "metadata": {
        "id": "bAP8WEzStI5W"
      },
      "source": [
        "mydict['lesson2_2'] = 'select * from pc'\n",
        "mydict.commit()"
      ],
      "execution_count": 11,
      "outputs": []
    },
    {
      "cell_type": "code",
      "metadata": {
        "id": "bg2RFSwRtI77"
      },
      "source": [
        "print(mydict['lesson2_2'])"
      ],
      "execution_count": null,
      "outputs": []
    },
    {
      "cell_type": "code",
      "metadata": {
        "id": "5Y_12DpmwQZe"
      },
      "source": [
        "## Nosql документная база данных"
      ],
      "execution_count": null,
      "outputs": []
    },
    {
      "cell_type": "code",
      "metadata": {
        "colab": {
          "base_uri": "https://localhost:8080/"
        },
        "id": "A_3OKR8QwQdC",
        "outputId": "5fdb0926-c435-4ff5-aecd-ca6459205a63"
      },
      "source": [
        "!{sys.executable} -m pip install tinydb"
      ],
      "execution_count": 13,
      "outputs": [
        {
          "output_type": "stream",
          "name": "stdout",
          "text": [
            "Collecting tinydb\n",
            "  Downloading tinydb-4.5.2-py3-none-any.whl (23 kB)\n",
            "Requirement already satisfied: typing-extensions<4.0.0,>=3.10.0 in /usr/local/lib/python3.7/dist-packages (from tinydb) (3.10.0.2)\n",
            "Installing collected packages: tinydb\n",
            "Successfully installed tinydb-4.5.2\n"
          ]
        }
      ]
    },
    {
      "cell_type": "code",
      "metadata": {
        "id": "z4zmHPUOwQfz"
      },
      "source": [
        "from tinydb import TinyDB, Query"
      ],
      "execution_count": 14,
      "outputs": []
    },
    {
      "cell_type": "code",
      "metadata": {
        "colab": {
          "base_uri": "https://localhost:8080/"
        },
        "id": "kmjzNB-KwQjD",
        "outputId": "733fa514-4418-433d-d376-0db2b8ab988e"
      },
      "source": [
        "from tinydb import TinyDB, Query\n",
        "db = TinyDB('db.json')\n",
        "db.insert({'int': 1, 'char': 'a'})\n",
        "db.insert({'int': 1, 'char': 'b'})"
      ],
      "execution_count": 15,
      "outputs": [
        {
          "output_type": "execute_result",
          "data": {
            "text/plain": [
              "2"
            ]
          },
          "metadata": {},
          "execution_count": 15
        }
      ]
    },
    {
      "cell_type": "code",
      "metadata": {
        "colab": {
          "base_uri": "https://localhost:8080/"
        },
        "id": "LKsrVG4mwQmE",
        "outputId": "72c9dc6b-887f-4b0c-f784-a50b3f70e0fa"
      },
      "source": [
        "User = Query()\n",
        "db.search(User.char == 'a')"
      ],
      "execution_count": 16,
      "outputs": [
        {
          "output_type": "execute_result",
          "data": {
            "text/plain": [
              "[{'char': 'a', 'int': 1}]"
            ]
          },
          "metadata": {},
          "execution_count": 16
        }
      ]
    },
    {
      "cell_type": "code",
      "metadata": {
        "id": "_dQ9HEvrwtz-"
      },
      "source": [
        "##task5 (lesson7)\n",
        "## sqlitedict: загрузите все домашние работы в формате json в таблицу test table.  Ключ: lesson2_2, Значение: sql запрос"
      ],
      "execution_count": null,
      "outputs": []
    },
    {
      "cell_type": "markdown",
      "metadata": {
        "id": "GJJwbhdSzSYj"
      },
      "source": [
        ""
      ]
    },
    {
      "cell_type": "code",
      "metadata": {
        "colab": {
          "base_uri": "https://localhost:8080/"
        },
        "id": "h9rR8cSPwt7v",
        "outputId": "59b4e7f3-00f5-40b1-9388-c598435f0958"
      },
      "source": [
        "from tinydb import TinyDB, Query\n",
        "db = TinyDB('db.json')\n",
        "db.insert({'lesson': 1, 'exercise': 2, 'sql': 'select * from pc'})\n",
        "\n",
        "\n",
        "User = Query()\n",
        "db.search(User.lesson == 1)"
      ],
      "execution_count": 17,
      "outputs": [
        {
          "output_type": "execute_result",
          "data": {
            "text/plain": [
              "[{'exercise': 2, 'lesson': 1, 'sql': 'select * from pc'}]"
            ]
          },
          "metadata": {},
          "execution_count": 17
        }
      ]
    },
    {
      "cell_type": "code",
      "metadata": {
        "id": "KGCqoyK_yNA4"
      },
      "source": [
        "\n",
        "\n"
      ],
      "execution_count": null,
      "outputs": []
    },
    {
      "cell_type": "markdown",
      "metadata": {
        "id": "93g_tsHB5iT_"
      },
      "source": [
        "--task1  (lesson6, дополнительно)\n",
        "-- SQL: Создайте таблицу с синтетическими данными (10000 строк, 3 колонки, все типы int) и заполните ее случайными данными от 0 до 1 000 000. Проведите EXPLAIN операции и сравните базовые операции.\n"
      ]
    },
    {
      "cell_type": "code",
      "metadata": {
        "id": "fSbII2Mk5lmA"
      },
      "source": [
        "df = pd.read_sql('''\n",
        "with recursive generate_series(r1,r2,r3) as (\n",
        "    select abs(random() % 1000000) as r1, abs(random() % 1000000) as r2, abs(random() % 1000000) as r3\n",
        "    union all select abs(random() % 1000000) as r1, abs(random() % 1000000) as r2, abs(random() % 1000000) as r3\n",
        "    from generate_series\n",
        "    limit 10000)\n",
        "select * from generate_series;\n",
        "''', conn_sqlite)\n"
      ],
      "execution_count": 18,
      "outputs": []
    }
  ]
}